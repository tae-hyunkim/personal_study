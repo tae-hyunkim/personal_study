{
 "cells": [
  {
   "cell_type": "code",
   "execution_count": 1,
   "metadata": {},
   "outputs": [
    {
     "ename": "ModuleNotFoundError",
     "evalue": "No module named 'caffe'",
     "output_type": "error",
     "traceback": [
      "\u001b[1;31m---------------------------------------------------------------------------\u001b[0m",
      "\u001b[1;31mModuleNotFoundError\u001b[0m                       Traceback (most recent call last)",
      "\u001b[1;32m<ipython-input-1-4692c60868d0>\u001b[0m in \u001b[0;36m<module>\u001b[1;34m()\u001b[0m\n\u001b[0;32m      4\u001b[0m \u001b[1;33m\u001b[0m\u001b[0m\n\u001b[0;32m      5\u001b[0m \u001b[1;32mimport\u001b[0m \u001b[0mos\u001b[0m\u001b[1;33m\u001b[0m\u001b[0m\n\u001b[1;32m----> 6\u001b[1;33m \u001b[1;32mimport\u001b[0m \u001b[0mcaffe\u001b[0m\u001b[1;33m\u001b[0m\u001b[0m\n\u001b[0m\u001b[0;32m      7\u001b[0m \u001b[1;32mimport\u001b[0m \u001b[0mnumpy\u001b[0m \u001b[1;32mas\u001b[0m \u001b[0mnp\u001b[0m\u001b[1;33m\u001b[0m\u001b[0m\n\u001b[0;32m      8\u001b[0m \u001b[1;33m\u001b[0m\u001b[0m\n",
      "\u001b[1;31mModuleNotFoundError\u001b[0m: No module named 'caffe'"
     ]
    }
   ],
   "source": [
    "# Append the path to caffe/python to your PYTHONPATH\n",
    "import sys\n",
    "sys.path.append('/home/gavin/caffe/python')\n",
    "\n",
    "import os\n",
    "import caffe\n",
    "import numpy as np\n",
    "\n",
    "CAFFE_DIR = '/home/gavin/caffe'\n",
    "MEAN_PATH = os.path.join(CAFFE_DIR, 'python/caffe/imagenet/ilsvrc_2012_mean.npy')\n",
    "PROTOTXT_PATH = os.path.join(CAFFE_DIR, 'models/bvlc_reference_caffenet/deploy.prototxt')\n",
    "CAFFEMODEL_PATH = os.path.join(CAFFE_DIR, 'models/bvlc_reference_caffenet/bvlc_reference_caffenet.caffemodel')\n",
    "IMAGE_PATH = 'img/zipper-1.jpg'\n",
    "\n",
    "caffe.set_mode_cpu()\n",
    "net = caffe.Net(PROTOTXT_PATH, CAFFEMODEL_PATH, caffe.TEST)\n",
    "transformer = caffe.io.Transformer({'data': net.blobs['data'].data.shape})\n",
    "transformer.set_transpose('data', (2, 0, 1))\n",
    "transformer.set_mean('data', np.load(MEAN_PATH).mean(1).mean(1))\n",
    "transformer.set_raw_scale('data', 255)\n",
    "transformer.set_channel_swap('data', (2,1,0))\n",
    "\n",
    "net.blobs['data'].reshape(1, 3, 227, 227)\n",
    "net.blobs['data'].data[0] = transformer.preprocess('data', caffe.io.load_image(IMAGE_PATH))\n",
    "net.forward()\n",
    "features = net.blobs['fc7'].data.reshape(-1,)\n",
    "print(features.shape)\n",
    "print(features)"
   ]
  }
 ],
 "metadata": {
  "kernelspec": {
   "display_name": "Python 3",
   "language": "python",
   "name": "python3"
  },
  "language_info": {
   "codemirror_mode": {
    "name": "ipython",
    "version": 3
   },
   "file_extension": ".py",
   "mimetype": "text/x-python",
   "name": "python",
   "nbconvert_exporter": "python",
   "pygments_lexer": "ipython3",
   "version": "3.6.5"
  }
 },
 "nbformat": 4,
 "nbformat_minor": 2
}
