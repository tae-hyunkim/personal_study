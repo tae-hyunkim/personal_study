{
 "cells": [
  {
   "cell_type": "markdown",
   "id": "3040386e",
   "metadata": {},
   "source": [
    "## 데이터 추출 여부 확인 부분\n",
    "\n",
    "* 고려해야 하는 사항 중 Evt Log 마다 항목이 동일한 것이 아님 (Check 및 작업 필요) "
   ]
  },
  {
   "cell_type": "code",
   "execution_count": 1,
   "id": "dc467c89",
   "metadata": {},
   "outputs": [],
   "source": [
    "# Note Book 내 응용프로그램 Log 추출하는 작업 \n",
    "import win32evtlog\n",
    "import xml.etree.ElementTree as ET\n",
    "from datetime import datetime\n",
    "import re"
   ]
  },
  {
   "cell_type": "code",
   "execution_count": 2,
   "id": "9febe73d",
   "metadata": {},
   "outputs": [],
   "source": [
    "# Window Evt Log 접속\n",
    "file = win32evtlog.EvtQuery('C:\\\\Windows\\\\System32\\\\Winevt\\\\Logs\\\\Application.evtx',\n",
    "                           win32evtlog.EvtQueryFilePath)"
   ]
  },
  {
   "cell_type": "code",
   "execution_count": 7,
   "id": "72671854",
   "metadata": {},
   "outputs": [],
   "source": [
    "# Evt Log 내 Evt Log 1개씩 추출작업 > 해당 코드 실행결과 값이 없으면 Evt Log 끝 \n",
    "log_extract = win32evtlog.EvtNext(file,1)"
   ]
  },
  {
   "cell_type": "code",
   "execution_count": 24,
   "id": "db6f518f",
   "metadata": {},
   "outputs": [
    {
     "data": {
      "text/plain": [
       "\"<Event xmlns='http://schemas.microsoft.com/win/2004/08/events/event'><System><Provider Name='Microsoft-Windows-User Profiles Service' Guid='{89b1e9f0-5aff-44a6-9b44-0a07a7ce5845}'/><EventID>1531</EventID><Version>0</Version><Level>4</Level><Task>0</Task><Opcode>0</Opcode><Keywords>0x8000000000000000</Keywords><TimeCreated SystemTime='2023-05-05T07:32:12.8763468Z'/><EventRecordID>1</EventRecordID><Correlation/><Execution ProcessID='1600' ThreadID='1972'/><Channel>Application</Channel><Computer>WIN-2JD0CI7630G</Computer><Security UserID='S-1-5-18'/></System><EventData></EventData></Event>\""
      ]
     },
     "execution_count": 24,
     "metadata": {},
     "output_type": "execute_result"
    }
   ],
   "source": [
    "# Evt Log 추출 > XML Format 변환 전 TXT 형태로 추출 \n",
    "xml_contents = win32evtlog.EvtRender(log_extract[0], win32evtlog.EvtRenderEventXml)"
   ]
  },
  {
   "cell_type": "code",
   "execution_count": 25,
   "id": "a7d9ed63",
   "metadata": {},
   "outputs": [
    {
     "data": {
      "text/plain": [
       "<Element '{http://schemas.microsoft.com/win/2004/08/events/event}Execution' at 0x000001BE38F3DE90>"
      ]
     },
     "execution_count": 25,
     "metadata": {},
     "output_type": "execute_result"
    }
   ],
   "source": [
    "# Evt Log XML Format 적용\n",
    "xml = ET.fromstring(xml_contents)\n",
    "ns = '{http://schemas.microsoft.com/win/2004/08/events/event}' # 기본 작업 (xml Format 변환시 출력 문구 정보)\n",
    "excution = xml.find(f'.//{ns}Execution')"
   ]
  },
  {
   "cell_type": "code",
   "execution_count": 26,
   "id": "ecc2bd6e",
   "metadata": {},
   "outputs": [
    {
     "name": "stdout",
     "output_type": "stream",
     "text": [
      "Event ID : 1531\n",
      "Level : 4\n",
      "Task : 0\n",
      "Time Created : 2023-05-05T07:32:12.8763468Z\n",
      "Channel : Application\n",
      "Computer : WIN-2JD0CI7630G\n",
      "ProcessID : 1600\n",
      "ThreadID : 1972\n"
     ]
    }
   ],
   "source": [
    "# Event ID Extract \n",
    "print(\"Event ID : {}\".format(xml.find(f'.//{ns}EventID').text))\n",
    "print(\"Level : {}\".format(xml.find(f'.//{ns}Level').text))\n",
    "print(\"Task : {}\".format(xml.find(f'.//{ns}Task').text))\n",
    "print(\"Time Created : {}\".format(xml.find(f'.//{ns}TimeCreated').get('SystemTime')))\n",
    "print(\"Channel : {}\".format(xml.find(f'.//{ns}Channel').text))\n",
    "print(\"Computer : {}\".format(xml.find(f'.//{ns}Computer').text))\n",
    "# Excution 항목\n",
    "print(\"ProcessID : {}\".format(excution.get('ProcessID')))\n",
    "print(\"ThreadID : {}\".format(excution.get('ThreadID')))"
   ]
  },
  {
   "cell_type": "markdown",
   "id": "0d2ed244",
   "metadata": {},
   "source": [
    "## 스케줄 코드로 변환하는 작업 "
   ]
  },
  {
   "cell_type": "code",
   "execution_count": 59,
   "id": "551d5f22",
   "metadata": {},
   "outputs": [],
   "source": [
    "import win32evtlog\n",
    "import xml.etree.ElementTree as ET\n",
    "from datetime import datetime\n",
    "import re\n",
    "import pandas as pd\n",
    "\n",
    "# Window Evt Log 접속\n",
    "file = win32evtlog.EvtQuery('C:\\\\Windows\\\\System32\\\\Winevt\\\\Logs\\\\Application.evtx',\n",
    "                           win32evtlog.EvtQueryFilePath)\n",
    "EventID = []; Level = []; TASK = []; CREATED_TIME = []; Channel = []; Computer = []; \n",
    "ProcessID = []; ThreadID = [];\n",
    "\n",
    "Num = 0\n",
    "\n",
    "while True :\n",
    "    Num += 1\n",
    "    \n",
    "    # Evt Log 내 Evt Log 1개씩 추출작업 > 해당 코드 실행결과 값이 없으면 Evt Log 끝 \n",
    "    log_extract = win32evtlog.EvtNext(file,1)\n",
    "    \n",
    "    if len(log_extract) == 0:\n",
    "        break \n",
    "        \n",
    "    # Evt Log 추출 > XML Format 변환 전 TXT 형태로 추출 \n",
    "    xml_contents = win32evtlog.EvtRender(log_extract[0], win32evtlog.EvtRenderEventXml)\n",
    "    \n",
    "    # Evt Log XML Format 적용\n",
    "    xml = ET.fromstring(xml_contents)\n",
    "    ns = '{http://schemas.microsoft.com/win/2004/08/events/event}' # 기본 작업 (xml Format 변환시 출력 문구 정보)\n",
    "    excution = xml.find(f'.//{ns}Execution')\n",
    "    \n",
    "    ext_eventid = xml.find(f'.//{ns}EventID').text\n",
    "    ext_level = xml.find(f'.//{ns}Level').text\n",
    "    ext_task = xml.find(f'.//{ns}Task').text\n",
    "    ext_created_time = re.sub('T',' ',xml.find(f'.//{ns}TimeCreated').get('SystemTime')[:19])\n",
    "    ext_channel = xml.find(f'.//{ns}Channel').text\n",
    "    ext_computer = xml.find(f'.//{ns}Computer').text\n",
    "    ext_ProcessID = excution.get('ProcessID')\n",
    "    ext_ThreadID = excution.get('ThreadID')\n",
    "    \n",
    "    EventID.append(ext_eventid)\n",
    "    Level.append(ext_level)\n",
    "    TASK.append(ext_task)\n",
    "    CREATED_TIME.append(ext_created_time)\n",
    "    Channel.append(ext_channel)\n",
    "    Computer.append(ext_computer)\n",
    "    ProcessID.append(ext_ProcessID)\n",
    "    ThreadID.append(ext_ThreadID)"
   ]
  },
  {
   "cell_type": "code",
   "execution_count": 61,
   "id": "ead70743",
   "metadata": {},
   "outputs": [],
   "source": [
    "data = pd.DataFrame({'CREATED_TIME':CREATED_TIME, 'EVENT_ID':EventID, 'LEVEL':Level, 'TASK':TASK, 'CHANNEL':Channel,\n",
    "                        'PROCESSID':ProcessID,'ThreadID':ThreadID})"
   ]
  },
  {
   "cell_type": "code",
   "execution_count": 62,
   "id": "16e768dc",
   "metadata": {},
   "outputs": [],
   "source": [
    "dir_ = 'D:\\Window_Event_Extract\\\\data\\\\WindowLOG{}.csv'.format(re.sub('-','',str(datetime.now())[:10]))\n",
    "data.to_csv(dir_,index=False)"
   ]
  }
 ],
 "metadata": {
  "kernelspec": {
   "display_name": "Python 3 (ipykernel)",
   "language": "python",
   "name": "python3"
  },
  "language_info": {
   "codemirror_mode": {
    "name": "ipython",
    "version": 3
   },
   "file_extension": ".py",
   "mimetype": "text/x-python",
   "name": "python",
   "nbconvert_exporter": "python",
   "pygments_lexer": "ipython3",
   "version": "3.11.4"
  }
 },
 "nbformat": 4,
 "nbformat_minor": 5
}
